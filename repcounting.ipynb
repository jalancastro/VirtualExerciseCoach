{
  "nbformat": 4,
  "nbformat_minor": 0,
  "metadata": {
    "colab": {
      "provenance": [],
      "authorship_tag": "ABX9TyMGfsr5vhvuL+8IRvwi9lJ0",
      "include_colab_link": true
    },
    "kernelspec": {
      "name": "python3",
      "display_name": "Python 3"
    },
    "language_info": {
      "name": "python"
    }
  },
  "cells": [
    {
      "cell_type": "markdown",
      "metadata": {
        "id": "view-in-github",
        "colab_type": "text"
      },
      "source": [
        "<a href=\"https://colab.research.google.com/github/jalancastro/VirtualExerciseCoach/blob/main/repcounting.ipynb\" target=\"_parent\"><img src=\"https://colab.research.google.com/assets/colab-badge.svg\" alt=\"Open In Colab\"/></a>"
      ]
    },
    {
      "cell_type": "code",
      "execution_count": null,
      "metadata": {
        "id": "otr0hHTaEblJ"
      },
      "outputs": [],
      "source": [
        "import pandas as pd\n",
        "import numpy as np\n",
        "\n",
        "# angle calculation\n",
        "def calculate_angle(a, b, c):\n",
        "    \"\"\"Calculate the angle (in degrees) formed by three points a, b, and c.\"\"\"\n",
        "    ba = np.array(a) - np.array(b)  # elbow/shoulder\n",
        "    bc = np.array(c) - np.array(b)  # elbow/wrist\n",
        "\n",
        "    cosine_angle = np.dot(ba, bc) / (np.linalg.norm(ba) * np.linalg.norm(bc))\n",
        "    angle = np.arccos(np.clip(cosine_angle, -1.0, 1.0))\n",
        "    return np.degrees(angle)\n",
        "\n",
        "# counting reps function\n",
        "def count_reps(angles, min_angle=50, max_angle=160):\n",
        "    angles = np.array(angles)  # converting to array\n",
        "    rep_count = 0\n",
        "    going_down = False  # extending arm\n",
        "\n",
        "    for angle in angles:\n",
        "        if angle <= min_angle:  # curled\n",
        "            going_down = True\n",
        "        elif going_down and angle >= max_angle:  # extended\n",
        "            rep_count += 1\n",
        "            going_down = False  # reset\n",
        "\n",
        "    return rep_count\n",
        "\n",
        "# loading CSV\n",
        "csv_file = \"test.csv\"\n",
        "df = pd.read_csv(csv_file)\n",
        "\n",
        "# left arm\n",
        "df[\"left_elbow_angle\"] = df.apply(\n",
        "    lambda row: calculate_angle(\n",
        "        (row[\"lshoulder_x\"], row[\"lshoulder_y\"]),\n",
        "        (row[\"lelbow_x\"], row[\"lelbow_y\"]),\n",
        "        (row[\"lwrist_x\"], row[\"lwrist_y\"])\n",
        "    ), axis=1\n",
        ")\n",
        "\n",
        "# right arm\n",
        "df[\"right_elbow_angle\"] = df.apply(\n",
        "    lambda row: calculate_angle(\n",
        "        (row[\"rshoulder_x\"], row[\"rshoulder_y\"]),\n",
        "        (row[\"relbow_x\"], row[\"relbow_y\"]),\n",
        "        (row[\"rwrist_x\"], row[\"rwrist_y\"])\n",
        "    ), axis=1\n",
        ")\n",
        "\n",
        "# counting\n",
        "left_reps = count_reps(df[\"left_elbow_angle\"])\n",
        "right_reps = count_reps(df[\"right_elbow_angle\"])\n",
        "\n",
        "print(f\"Left reps (angle-based): {left_reps}\")\n",
        "print(f\"Right reps (angle-based): {right_reps}\")"
      ]
    }
  ]
}